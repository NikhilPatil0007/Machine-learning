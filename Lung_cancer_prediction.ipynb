{
  "nbformat": 4,
  "nbformat_minor": 0,
  "metadata": {
    "colab": {
      "provenance": []
    },
    "kernelspec": {
      "name": "python3",
      "display_name": "Python 3"
    },
    "language_info": {
      "name": "python"
    }
  },
  "cells": [
    {
      "cell_type": "code",
      "execution_count": 16,
      "metadata": {
        "id": "RJMu758OjAEE"
      },
      "outputs": [],
      "source": [
        "import numpy as np\n",
        "import pandas as pd\n",
        "import matplotlib.pyplot as plt\n",
        "import seaborn as sns\n",
        "from sklearn.model_selection import train_test_split\n",
        "from sklearn.linear_model import LogisticRegression\n",
        "from sklearn.metrics import accuracy_score, classification_report, confusion_matrix\n",
        "from sklearn.preprocessing import LabelEncoder"
      ]
    },
    {
      "cell_type": "code",
      "source": [
        "df= pd.read_csv('lung cancer survey.csv')"
      ],
      "metadata": {
        "id": "dGXAdnkIjzD1"
      },
      "execution_count": 2,
      "outputs": []
    },
    {
      "cell_type": "code",
      "source": [
        "print(df.head())"
      ],
      "metadata": {
        "colab": {
          "base_uri": "https://localhost:8080/"
        },
        "id": "baYePvq9jzGs",
        "outputId": "9cc69108-311a-4d8d-c256-70db372d92d7"
      },
      "execution_count": 3,
      "outputs": [
        {
          "output_type": "stream",
          "name": "stdout",
          "text": [
            "  GENDER  AGE  SMOKING  YELLOW_FINGERS  ANXIETY  PEER_PRESSURE  \\\n",
            "0      M   69        1               2        2              1   \n",
            "1      M   74        2               1        1              1   \n",
            "2      F   59        1               1        1              2   \n",
            "3      M   63        2               2        2              1   \n",
            "4      F   63        1               2        1              1   \n",
            "\n",
            "   CHRONIC DISEASE  FATIGUE   ALLERGY   WHEEZING  ALCOHOL CONSUMING  COUGHING  \\\n",
            "0                1         2         1         2                  2         2   \n",
            "1                2         2         2         1                  1         1   \n",
            "2                1         2         1         2                  1         2   \n",
            "3                1         1         1         1                  2         1   \n",
            "4                1         1         1         2                  1         2   \n",
            "\n",
            "   SHORTNESS OF BREATH  SWALLOWING DIFFICULTY  CHEST PAIN LUNG_CANCER  \n",
            "0                    2                      2           2         YES  \n",
            "1                    2                      2           2         YES  \n",
            "2                    2                      1           2          NO  \n",
            "3                    1                      2           2          NO  \n",
            "4                    2                      1           1          NO  \n"
          ]
        }
      ]
    },
    {
      "cell_type": "code",
      "source": [
        "print(df.info())"
      ],
      "metadata": {
        "colab": {
          "base_uri": "https://localhost:8080/"
        },
        "id": "tUKYnuusjzJw",
        "outputId": "29bf612c-e3ad-4af6-896e-31828a90cea5"
      },
      "execution_count": 4,
      "outputs": [
        {
          "output_type": "stream",
          "name": "stdout",
          "text": [
            "<class 'pandas.core.frame.DataFrame'>\n",
            "RangeIndex: 309 entries, 0 to 308\n",
            "Data columns (total 16 columns):\n",
            " #   Column                 Non-Null Count  Dtype \n",
            "---  ------                 --------------  ----- \n",
            " 0   GENDER                 309 non-null    object\n",
            " 1   AGE                    309 non-null    int64 \n",
            " 2   SMOKING                309 non-null    int64 \n",
            " 3   YELLOW_FINGERS         309 non-null    int64 \n",
            " 4   ANXIETY                309 non-null    int64 \n",
            " 5   PEER_PRESSURE          309 non-null    int64 \n",
            " 6   CHRONIC DISEASE        309 non-null    int64 \n",
            " 7   FATIGUE                309 non-null    int64 \n",
            " 8   ALLERGY                309 non-null    int64 \n",
            " 9   WHEEZING               309 non-null    int64 \n",
            " 10  ALCOHOL CONSUMING      309 non-null    int64 \n",
            " 11  COUGHING               309 non-null    int64 \n",
            " 12  SHORTNESS OF BREATH    309 non-null    int64 \n",
            " 13  SWALLOWING DIFFICULTY  309 non-null    int64 \n",
            " 14  CHEST PAIN             309 non-null    int64 \n",
            " 15  LUNG_CANCER            309 non-null    object\n",
            "dtypes: int64(14), object(2)\n",
            "memory usage: 38.8+ KB\n",
            "None\n"
          ]
        }
      ]
    },
    {
      "cell_type": "code",
      "source": [
        "print(df.describe())"
      ],
      "metadata": {
        "colab": {
          "base_uri": "https://localhost:8080/"
        },
        "id": "_IdSelevjzNE",
        "outputId": "dd8849de-c19f-41fc-aa36-2379931782d6"
      },
      "execution_count": 5,
      "outputs": [
        {
          "output_type": "stream",
          "name": "stdout",
          "text": [
            "              AGE     SMOKING  YELLOW_FINGERS     ANXIETY  PEER_PRESSURE  \\\n",
            "count  309.000000  309.000000      309.000000  309.000000     309.000000   \n",
            "mean    62.673139    1.563107        1.569579    1.498382       1.501618   \n",
            "std      8.210301    0.496806        0.495938    0.500808       0.500808   \n",
            "min     21.000000    1.000000        1.000000    1.000000       1.000000   \n",
            "25%     57.000000    1.000000        1.000000    1.000000       1.000000   \n",
            "50%     62.000000    2.000000        2.000000    1.000000       2.000000   \n",
            "75%     69.000000    2.000000        2.000000    2.000000       2.000000   \n",
            "max     87.000000    2.000000        2.000000    2.000000       2.000000   \n",
            "\n",
            "       CHRONIC DISEASE    FATIGUE     ALLERGY     WHEEZING  ALCOHOL CONSUMING  \\\n",
            "count       309.000000  309.000000  309.000000  309.000000         309.000000   \n",
            "mean          1.504854    1.673139    1.556634    1.556634           1.556634   \n",
            "std           0.500787    0.469827    0.497588    0.497588           0.497588   \n",
            "min           1.000000    1.000000    1.000000    1.000000           1.000000   \n",
            "25%           1.000000    1.000000    1.000000    1.000000           1.000000   \n",
            "50%           2.000000    2.000000    2.000000    2.000000           2.000000   \n",
            "75%           2.000000    2.000000    2.000000    2.000000           2.000000   \n",
            "max           2.000000    2.000000    2.000000    2.000000           2.000000   \n",
            "\n",
            "         COUGHING  SHORTNESS OF BREATH  SWALLOWING DIFFICULTY  CHEST PAIN  \n",
            "count  309.000000           309.000000             309.000000  309.000000  \n",
            "mean     1.579288             1.640777               1.469256    1.556634  \n",
            "std      0.494474             0.480551               0.499863    0.497588  \n",
            "min      1.000000             1.000000               1.000000    1.000000  \n",
            "25%      1.000000             1.000000               1.000000    1.000000  \n",
            "50%      2.000000             2.000000               1.000000    2.000000  \n",
            "75%      2.000000             2.000000               2.000000    2.000000  \n",
            "max      2.000000             2.000000               2.000000    2.000000  \n"
          ]
        }
      ]
    },
    {
      "cell_type": "code",
      "source": [
        "# Preprocess the data\n",
        "# Encode the 'GENDER' and 'LUNG_CANCER' columns since they are categorical\n",
        "gender_encoder = LabelEncoder()\n",
        "lung_cancer_encoder = LabelEncoder()\n",
        "df['GENDER'] = gender_encoder.fit_transform(df['GENDER'])\n",
        "df['LUNG_CANCER'] = lung_cancer_encoder.fit_transform(df['LUNG_CANCER'])"
      ],
      "metadata": {
        "id": "9VRC5UpdjzP8"
      },
      "execution_count": 26,
      "outputs": []
    },
    {
      "cell_type": "code",
      "source": [
        "print(df.head())"
      ],
      "metadata": {
        "colab": {
          "base_uri": "https://localhost:8080/"
        },
        "id": "fkyCt0FHjzS8",
        "outputId": "9da290a4-99f8-460d-94f2-ae2544532e98"
      },
      "execution_count": 9,
      "outputs": [
        {
          "output_type": "stream",
          "name": "stdout",
          "text": [
            "   GENDER  AGE  SMOKING  YELLOW_FINGERS  ANXIETY  PEER_PRESSURE  \\\n",
            "0       1   69        1               2        2              1   \n",
            "1       1   74        2               1        1              1   \n",
            "2       0   59        1               1        1              2   \n",
            "3       1   63        2               2        2              1   \n",
            "4       0   63        1               2        1              1   \n",
            "\n",
            "   CHRONIC DISEASE  FATIGUE   ALLERGY   WHEEZING  ALCOHOL CONSUMING  COUGHING  \\\n",
            "0                1         2         1         2                  2         2   \n",
            "1                2         2         2         1                  1         1   \n",
            "2                1         2         1         2                  1         2   \n",
            "3                1         1         1         1                  2         1   \n",
            "4                1         1         1         2                  1         2   \n",
            "\n",
            "   SHORTNESS OF BREATH  SWALLOWING DIFFICULTY  CHEST PAIN  LUNG_CANCER  \n",
            "0                    2                      2           2            1  \n",
            "1                    2                      2           2            1  \n",
            "2                    2                      1           2            0  \n",
            "3                    1                      2           2            0  \n",
            "4                    2                      1           1            0  \n"
          ]
        }
      ]
    },
    {
      "cell_type": "code",
      "source": [
        "# separate the features and the target variable\n",
        "x = df.drop(columns=['LUNG_CANCER'])\n",
        "y = df['LUNG_CANCER']"
      ],
      "metadata": {
        "id": "h1pCJSQSjzV-"
      },
      "execution_count": 11,
      "outputs": []
    },
    {
      "cell_type": "code",
      "source": [
        "# Split the data into training and test sets\n",
        "X_train, X_test, y_train, y_test = train_test_split(x, y, test_size=0.2, random_state=42)"
      ],
      "metadata": {
        "id": "K_LiQ8rAjzYc"
      },
      "execution_count": 13,
      "outputs": []
    },
    {
      "cell_type": "code",
      "source": [
        "# Initialize and train the logistic regression model\n",
        "model = LogisticRegression(max_iter=1000) # Increase max_iter if the model doesn't converge\n",
        "model.fit(X_train, y_train)"
      ],
      "metadata": {
        "colab": {
          "base_uri": "https://localhost:8080/",
          "height": 74
        },
        "id": "F3vE9LuYoWWl",
        "outputId": "2aedc018-574e-41e7-f81c-eecdaed4f0b8"
      },
      "execution_count": 14,
      "outputs": [
        {
          "output_type": "execute_result",
          "data": {
            "text/plain": [
              "LogisticRegression(max_iter=1000)"
            ],
            "text/html": [
              "<style>#sk-container-id-1 {color: black;}#sk-container-id-1 pre{padding: 0;}#sk-container-id-1 div.sk-toggleable {background-color: white;}#sk-container-id-1 label.sk-toggleable__label {cursor: pointer;display: block;width: 100%;margin-bottom: 0;padding: 0.3em;box-sizing: border-box;text-align: center;}#sk-container-id-1 label.sk-toggleable__label-arrow:before {content: \"▸\";float: left;margin-right: 0.25em;color: #696969;}#sk-container-id-1 label.sk-toggleable__label-arrow:hover:before {color: black;}#sk-container-id-1 div.sk-estimator:hover label.sk-toggleable__label-arrow:before {color: black;}#sk-container-id-1 div.sk-toggleable__content {max-height: 0;max-width: 0;overflow: hidden;text-align: left;background-color: #f0f8ff;}#sk-container-id-1 div.sk-toggleable__content pre {margin: 0.2em;color: black;border-radius: 0.25em;background-color: #f0f8ff;}#sk-container-id-1 input.sk-toggleable__control:checked~div.sk-toggleable__content {max-height: 200px;max-width: 100%;overflow: auto;}#sk-container-id-1 input.sk-toggleable__control:checked~label.sk-toggleable__label-arrow:before {content: \"▾\";}#sk-container-id-1 div.sk-estimator input.sk-toggleable__control:checked~label.sk-toggleable__label {background-color: #d4ebff;}#sk-container-id-1 div.sk-label input.sk-toggleable__control:checked~label.sk-toggleable__label {background-color: #d4ebff;}#sk-container-id-1 input.sk-hidden--visually {border: 0;clip: rect(1px 1px 1px 1px);clip: rect(1px, 1px, 1px, 1px);height: 1px;margin: -1px;overflow: hidden;padding: 0;position: absolute;width: 1px;}#sk-container-id-1 div.sk-estimator {font-family: monospace;background-color: #f0f8ff;border: 1px dotted black;border-radius: 0.25em;box-sizing: border-box;margin-bottom: 0.5em;}#sk-container-id-1 div.sk-estimator:hover {background-color: #d4ebff;}#sk-container-id-1 div.sk-parallel-item::after {content: \"\";width: 100%;border-bottom: 1px solid gray;flex-grow: 1;}#sk-container-id-1 div.sk-label:hover label.sk-toggleable__label {background-color: #d4ebff;}#sk-container-id-1 div.sk-serial::before {content: \"\";position: absolute;border-left: 1px solid gray;box-sizing: border-box;top: 0;bottom: 0;left: 50%;z-index: 0;}#sk-container-id-1 div.sk-serial {display: flex;flex-direction: column;align-items: center;background-color: white;padding-right: 0.2em;padding-left: 0.2em;position: relative;}#sk-container-id-1 div.sk-item {position: relative;z-index: 1;}#sk-container-id-1 div.sk-parallel {display: flex;align-items: stretch;justify-content: center;background-color: white;position: relative;}#sk-container-id-1 div.sk-item::before, #sk-container-id-1 div.sk-parallel-item::before {content: \"\";position: absolute;border-left: 1px solid gray;box-sizing: border-box;top: 0;bottom: 0;left: 50%;z-index: -1;}#sk-container-id-1 div.sk-parallel-item {display: flex;flex-direction: column;z-index: 1;position: relative;background-color: white;}#sk-container-id-1 div.sk-parallel-item:first-child::after {align-self: flex-end;width: 50%;}#sk-container-id-1 div.sk-parallel-item:last-child::after {align-self: flex-start;width: 50%;}#sk-container-id-1 div.sk-parallel-item:only-child::after {width: 0;}#sk-container-id-1 div.sk-dashed-wrapped {border: 1px dashed gray;margin: 0 0.4em 0.5em 0.4em;box-sizing: border-box;padding-bottom: 0.4em;background-color: white;}#sk-container-id-1 div.sk-label label {font-family: monospace;font-weight: bold;display: inline-block;line-height: 1.2em;}#sk-container-id-1 div.sk-label-container {text-align: center;}#sk-container-id-1 div.sk-container {/* jupyter's `normalize.less` sets `[hidden] { display: none; }` but bootstrap.min.css set `[hidden] { display: none !important; }` so we also need the `!important` here to be able to override the default hidden behavior on the sphinx rendered scikit-learn.org. See: https://github.com/scikit-learn/scikit-learn/issues/21755 */display: inline-block !important;position: relative;}#sk-container-id-1 div.sk-text-repr-fallback {display: none;}</style><div id=\"sk-container-id-1\" class=\"sk-top-container\"><div class=\"sk-text-repr-fallback\"><pre>LogisticRegression(max_iter=1000)</pre><b>In a Jupyter environment, please rerun this cell to show the HTML representation or trust the notebook. <br />On GitHub, the HTML representation is unable to render, please try loading this page with nbviewer.org.</b></div><div class=\"sk-container\" hidden><div class=\"sk-item\"><div class=\"sk-estimator sk-toggleable\"><input class=\"sk-toggleable__control sk-hidden--visually\" id=\"sk-estimator-id-1\" type=\"checkbox\" checked><label for=\"sk-estimator-id-1\" class=\"sk-toggleable__label sk-toggleable__label-arrow\">LogisticRegression</label><div class=\"sk-toggleable__content\"><pre>LogisticRegression(max_iter=1000)</pre></div></div></div></div></div>"
            ]
          },
          "metadata": {},
          "execution_count": 14
        }
      ]
    },
    {
      "cell_type": "code",
      "source": [
        "# Make predictions on the test set\n",
        "y_pred = model.predict(X_test)"
      ],
      "metadata": {
        "id": "2h1cVIuotEVy"
      },
      "execution_count": 15,
      "outputs": []
    },
    {
      "cell_type": "code",
      "source": [
        "#Evaluate the model\n",
        "print(\"Accuracy:\", accuracy_score(y_test, y_pred))\n",
        "print(\"Classification Report:\\n\", classification_report(y_test, y_pred))\n",
        "print(\"Confusion Matrix:\\n\", confusion_matrix(y_test, y_pred))\n",
        "\n",
        "\n"
      ],
      "metadata": {
        "colab": {
          "base_uri": "https://localhost:8080/"
        },
        "id": "ZIXeB7cutM4r",
        "outputId": "9775f030-9e8c-4a84-a9b2-2a2c0fef6975"
      },
      "execution_count": 17,
      "outputs": [
        {
          "output_type": "stream",
          "name": "stdout",
          "text": [
            "Accuracy: 0.967741935483871\n",
            "Classification Report:\n",
            "               precision    recall  f1-score   support\n",
            "\n",
            "           0       0.50      0.50      0.50         2\n",
            "           1       0.98      0.98      0.98        60\n",
            "\n",
            "    accuracy                           0.97        62\n",
            "   macro avg       0.74      0.74      0.74        62\n",
            "weighted avg       0.97      0.97      0.97        62\n",
            "\n",
            "Confusion Matrix:\n",
            " [[ 1  1]\n",
            " [ 1 59]]\n"
          ]
        }
      ]
    },
    {
      "cell_type": "code",
      "source": [
        "# Fit the encoder on a list that includes 'Male'\n",
        "gender_encoder.fit(['Female', 'Male'])  # Or fit it on the entire 'GENDER' column of your original dataset\n",
        "\n",
        "# Example: Predicting for a new patient (Example Input data)\n",
        "new_patient = pd.DataFrame({\n",
        "    'GENDER' : [gender_encoder.transform(['Male'])[0]],\n",
        "    'AGE' : [65],\n",
        "    'SMOKING' : [1],\n",
        "    'YELLOW_FINGERS' : [0],\n",
        "    'ANXIETY' : [1],\n",
        "    'PEER_PRESSURE' : [1],\n",
        "    'CHRONIC DISEASE' : [1],\n",
        "    'FATIGUE ' : [1],\n",
        "    'ALLERGY ' : [0],\n",
        "    'WHEEZING' : [1],\n",
        "    'ALCOHOL CONSUMING' : [1],\n",
        "    'COUGHING' : [1],\n",
        "    'SHORTNESS OF BREATH' : [1],\n",
        "    'SWALLOWING DIFFICULTY' : [0],\n",
        "    'CHEST PAIN' : [1]\n",
        "})\n",
        "\n",
        "# Predict lung cancer probability for the new patient\n",
        "predicted_lung_cancer = model.predict(new_patient)\n",
        "predicted_lung_cancer_label = lung_cancer_encoder.inverse_transform(predicted_lung_cancer)[0]\n",
        "print(\"Predicted Lung Cancer:\", predicted_lung_cancer_label)"
      ],
      "metadata": {
        "colab": {
          "base_uri": "https://localhost:8080/"
        },
        "id": "opAkBp7CtyQF",
        "outputId": "d5fa6d88-64f0-453e-908c-5eddb9c3db5e"
      },
      "execution_count": 28,
      "outputs": [
        {
          "output_type": "stream",
          "name": "stdout",
          "text": [
            "Predicted Lung Cancer: 0\n"
          ]
        }
      ]
    },
    {
      "cell_type": "code",
      "source": [],
      "metadata": {
        "id": "L_pyszZov87K"
      },
      "execution_count": null,
      "outputs": []
    }
  ]
}